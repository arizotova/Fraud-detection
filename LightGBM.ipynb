{
 "cells": [
  {
   "cell_type": "code",
   "execution_count": 1,
   "metadata": {},
   "outputs": [],
   "source": [
    "import pandas as pd"
   ]
  },
  {
   "cell_type": "code",
   "execution_count": 2,
   "metadata": {},
   "outputs": [],
   "source": [
    "import numpy as np\n",
    "from matplotlib import pyplot as plt\n",
    "%matplotlib inline"
   ]
  },
  {
   "cell_type": "code",
   "execution_count": 3,
   "metadata": {},
   "outputs": [],
   "source": [
    "import seaborn as sns"
   ]
  },
  {
   "cell_type": "code",
   "execution_count": 4,
   "metadata": {},
   "outputs": [],
   "source": [
    "import sys\n",
    "sys.path.append('/home/anastasia/anaconda3/envs/just3/lib/python3.7/site-packages')\n",
    "sys.path.append('/home/anastasia/anaconda3/envs/just3/lib/python3.7')"
   ]
  },
  {
   "cell_type": "code",
   "execution_count": 5,
   "metadata": {},
   "outputs": [],
   "source": [
    "import lightgbm  as lgb"
   ]
  },
  {
   "cell_type": "code",
   "execution_count": 6,
   "metadata": {},
   "outputs": [],
   "source": [
    "from sklearn.model_selection import train_test_split, TimeSeriesSplit , KFold"
   ]
  },
  {
   "cell_type": "code",
   "execution_count": 7,
   "metadata": {},
   "outputs": [],
   "source": [
    "from sklearn.preprocessing import StandardScaler"
   ]
  },
  {
   "cell_type": "code",
   "execution_count": 8,
   "metadata": {},
   "outputs": [],
   "source": [
    "from sklearn.metrics import confusion_matrix, roc_auc_score, accuracy_score"
   ]
  },
  {
   "cell_type": "code",
   "execution_count": 9,
   "metadata": {},
   "outputs": [],
   "source": [
    "from sklearn import metrics"
   ]
  },
  {
   "cell_type": "code",
   "execution_count": 10,
   "metadata": {},
   "outputs": [],
   "source": [
    "import warnings\n",
    "warnings.filterwarnings('ignore')"
   ]
  },
  {
   "cell_type": "code",
   "execution_count": 11,
   "metadata": {},
   "outputs": [],
   "source": [
    "df = pd.read_csv('_usa_.csv')"
   ]
  },
  {
   "cell_type": "markdown",
   "metadata": {},
   "source": [
    "Разделение на train/test"
   ]
  },
  {
   "cell_type": "markdown",
   "metadata": {},
   "source": [
    "1) 80/20"
   ]
  },
  {
   "cell_type": "code",
   "execution_count": 47,
   "metadata": {},
   "outputs": [],
   "source": [
    "train = df.head(int(0.8 * len(df)))\n",
    "test = df.tail(int(0.2 * len(df))+1)\n",
    "\n",
    "y_test = test['IsFraud']\n",
    "\n",
    "test.drop('IsFraud', axis='columns', inplace=True)\n",
    "\n",
    "X_train = train.drop('IsFraud', axis='columns').copy()\n",
    "X_test = test.copy()\n",
    "y_train = train['IsFraud'].copy()"
   ]
  },
  {
   "cell_type": "markdown",
   "metadata": {},
   "source": [
    "2) split"
   ]
  },
  {
   "cell_type": "code",
   "execution_count": 14,
   "metadata": {},
   "outputs": [],
   "source": [
    "X = df.drop('IsFraud', axis='columns').copy()\n",
    "y = df['IsFraud'].copy()\n",
    "\n",
    "X_train, X_test, y_train, y_test = train_test_split(X, y, test_size = 0.15, stratify = y, random_state = 0)"
   ]
  },
  {
   "cell_type": "markdown",
   "metadata": {},
   "source": [
    "3) 80/20 по клиенту"
   ]
  },
  {
   "cell_type": "code",
   "execution_count": 26,
   "metadata": {},
   "outputs": [],
   "source": [
    "test = pd.DataFrame()\n",
    "train = pd.DataFrame()\n",
    "\n",
    "for name in df.columns:\n",
    "    test[name] = []\n",
    "    train[name] = []\n",
    "\n",
    "for acc in df['Card Number'].unique():\n",
    "    df_tmp = df.loc[df['Card Number'] == acc]\n",
    "    li = df_tmp['TransactionId'].to_list()\n",
    "    a = int(len(li) // 8 + 1)\n",
    "    test = test.append(df_tmp.tail(a), ignore_index = True)\n",
    "    train = train.append(df_tmp.head(len(li) - a), ignore_index = True)\n",
    "\n",
    "y_test = test['IsFraud']\n",
    "\n",
    "test.drop('IsFraud', axis='columns', inplace=True)\n",
    "\n",
    "X_train = train.drop('IsFraud', axis='columns').copy()\n",
    "X_test = test.copy()\n",
    "y_train = train['IsFraud'].copy()"
   ]
  },
  {
   "cell_type": "markdown",
   "metadata": {},
   "source": [
    "Валидация"
   ]
  },
  {
   "cell_type": "code",
   "execution_count": 16,
   "metadata": {},
   "outputs": [],
   "source": [
    "#x_train_split, x_val_split, y_train_split, y_val_split = train_test_split(X_train, y_train, test_size = 0.15, stratify = y_train, random_state = 0)"
   ]
  },
  {
   "cell_type": "code",
   "execution_count": 18,
   "metadata": {},
   "outputs": [],
   "source": [
    "n_folds = 5\n",
    "folds = TimeSeriesSplit(n_splits=n_folds) \n",
    "folds = KFold(n_splits = 5)"
   ]
  },
  {
   "cell_type": "code",
   "execution_count": 20,
   "metadata": {},
   "outputs": [],
   "source": [
    "columns = X_train.columns\n",
    "splits = folds.split(X_train, y_train)\n",
    "y_preds = np.zeros(X_test.shape[0])\n",
    "y_oof = np.zeros(X_train.shape[0])"
   ]
  },
  {
   "cell_type": "code",
   "execution_count": 21,
   "metadata": {},
   "outputs": [],
   "source": [
    "score_auc = 0 "
   ]
  },
  {
   "cell_type": "code",
   "execution_count": 22,
   "metadata": {},
   "outputs": [],
   "source": [
    "us = {}\n",
    "us['objective'] = 'binary'\n",
    "us['boosting_type'] = 'gbdt'\n",
    "us['metric'] = 'auc'\n",
    "us['learning_rate'] = 0.006\n",
    "us['num_leaves'] = 60\n",
    "us['max_depth'] = 5\n",
    "us['feature_fraction'] = 0.04\n",
    "\n",
    "us['is_unbalance'] = True\n",
    "us['bagging_fraction'] = 0.33\n",
    "us['min_data_in_leaf'] = 80\n",
    "us['min_child_weight'] = 0.03\n",
    "us['bagging_seed'] = 7\n",
    "us['verbosity'] = -1\n",
    "us['reg_alpha'] = 0.3\n",
    "us['reg_lambda'] = 0.6\n",
    "us['random_state'] = 0"
   ]
  },
  {
   "cell_type": "code",
   "execution_count": 23,
   "metadata": {},
   "outputs": [
    {
     "name": "stdout",
     "output_type": "stream",
     "text": [
      "Training until validation scores don't improve for 4000 rounds\n",
      "[400]\ttraining's auc: 0.999822\tvalid_1's auc: 0.99914\n",
      "[800]\ttraining's auc: 0.999862\tvalid_1's auc: 0.999277\n",
      "[1200]\ttraining's auc: 0.999902\tvalid_1's auc: 0.999354\n",
      "[1600]\ttraining's auc: 0.999932\tvalid_1's auc: 0.999456\n",
      "[2000]\ttraining's auc: 0.999949\tvalid_1's auc: 0.999523\n",
      "[2400]\ttraining's auc: 0.999963\tvalid_1's auc: 0.999607\n",
      "[2800]\ttraining's auc: 0.999975\tvalid_1's auc: 0.999657\n",
      "[3200]\ttraining's auc: 0.999986\tvalid_1's auc: 0.999682\n",
      "[3600]\ttraining's auc: 0.999995\tvalid_1's auc: 0.999707\n",
      "[4000]\ttraining's auc: 1\tvalid_1's auc: 0.999732\n",
      "[4400]\ttraining's auc: 1\tvalid_1's auc: 0.999744\n",
      "[4800]\ttraining's auc: 1\tvalid_1's auc: 0.999752\n",
      "[5200]\ttraining's auc: 1\tvalid_1's auc: 0.999764\n",
      "[5600]\ttraining's auc: 1\tvalid_1's auc: 0.999759\n",
      "[6000]\ttraining's auc: 1\tvalid_1's auc: 0.999749\n",
      "[6400]\ttraining's auc: 1\tvalid_1's auc: 0.999761\n",
      "[6800]\ttraining's auc: 1\tvalid_1's auc: 0.999754\n",
      "[7200]\ttraining's auc: 1\tvalid_1's auc: 0.999749\n",
      "[7600]\ttraining's auc: 1\tvalid_1's auc: 0.999747\n",
      "[8000]\ttraining's auc: 1\tvalid_1's auc: 0.999739\n",
      "[8400]\ttraining's auc: 1\tvalid_1's auc: 0.999747\n",
      "[8800]\ttraining's auc: 1\tvalid_1's auc: 0.999749\n",
      "Early stopping, best iteration is:\n",
      "[5162]\ttraining's auc: 1\tvalid_1's auc: 0.999764\n",
      "Fold 1 | AUC: 0.9997639751552796\n",
      "Training until validation scores don't improve for 4000 rounds\n",
      "[400]\ttraining's auc: 0.999792\tvalid_1's auc: 0.998644\n",
      "[800]\ttraining's auc: 0.999848\tvalid_1's auc: 0.998687\n",
      "[1200]\ttraining's auc: 0.999909\tvalid_1's auc: 0.998791\n",
      "[1600]\ttraining's auc: 0.99994\tvalid_1's auc: 0.998946\n",
      "[2000]\ttraining's auc: 0.999954\tvalid_1's auc: 0.999066\n",
      "[2400]\ttraining's auc: 0.999964\tvalid_1's auc: 0.99915\n",
      "[2800]\ttraining's auc: 0.999971\tvalid_1's auc: 0.999228\n",
      "[3200]\ttraining's auc: 0.999979\tvalid_1's auc: 0.999312\n",
      "[3600]\ttraining's auc: 0.999986\tvalid_1's auc: 0.999372\n",
      "[4000]\ttraining's auc: 0.99999\tvalid_1's auc: 0.99943\n",
      "[4400]\ttraining's auc: 0.999994\tvalid_1's auc: 0.999474\n",
      "[4800]\ttraining's auc: 0.999997\tvalid_1's auc: 0.999505\n",
      "[5200]\ttraining's auc: 0.999998\tvalid_1's auc: 0.999525\n",
      "[5600]\ttraining's auc: 0.999999\tvalid_1's auc: 0.999545\n",
      "[6000]\ttraining's auc: 0.999999\tvalid_1's auc: 0.999552\n",
      "[6400]\ttraining's auc: 1\tvalid_1's auc: 0.999576\n",
      "[6800]\ttraining's auc: 1\tvalid_1's auc: 0.999572\n",
      "[7200]\ttraining's auc: 1\tvalid_1's auc: 0.999574\n",
      "[7600]\ttraining's auc: 1\tvalid_1's auc: 0.999576\n",
      "[8000]\ttraining's auc: 1\tvalid_1's auc: 0.999578\n",
      "[8400]\ttraining's auc: 1\tvalid_1's auc: 0.999581\n",
      "[8800]\ttraining's auc: 1\tvalid_1's auc: 0.99959\n",
      "[9200]\ttraining's auc: 1\tvalid_1's auc: 0.999596\n",
      "[9600]\ttraining's auc: 1\tvalid_1's auc: 0.999596\n",
      "[10000]\ttraining's auc: 1\tvalid_1's auc: 0.999612\n",
      "[10400]\ttraining's auc: 1\tvalid_1's auc: 0.999607\n",
      "[10800]\ttraining's auc: 1\tvalid_1's auc: 0.999605\n",
      "[11200]\ttraining's auc: 1\tvalid_1's auc: 0.999607\n",
      "[11600]\ttraining's auc: 1\tvalid_1's auc: 0.999616\n",
      "[12000]\ttraining's auc: 1\tvalid_1's auc: 0.999625\n",
      "[12400]\ttraining's auc: 1\tvalid_1's auc: 0.999623\n",
      "[12800]\ttraining's auc: 1\tvalid_1's auc: 0.999638\n",
      "[13200]\ttraining's auc: 1\tvalid_1's auc: 0.999636\n",
      "[13600]\ttraining's auc: 1\tvalid_1's auc: 0.999638\n",
      "[14000]\ttraining's auc: 1\tvalid_1's auc: 0.999645\n",
      "[14400]\ttraining's auc: 1\tvalid_1's auc: 0.999652\n",
      "[14800]\ttraining's auc: 1\tvalid_1's auc: 0.999656\n",
      "[15200]\ttraining's auc: 1\tvalid_1's auc: 0.999658\n",
      "[15600]\ttraining's auc: 1\tvalid_1's auc: 0.999661\n",
      "[16000]\ttraining's auc: 1\tvalid_1's auc: 0.999663\n",
      "[16400]\ttraining's auc: 1\tvalid_1's auc: 0.999674\n",
      "[16800]\ttraining's auc: 1\tvalid_1's auc: 0.999674\n",
      "[17200]\ttraining's auc: 1\tvalid_1's auc: 0.999676\n",
      "[17600]\ttraining's auc: 1\tvalid_1's auc: 0.999678\n",
      "[18000]\ttraining's auc: 1\tvalid_1's auc: 0.999678\n",
      "[18400]\ttraining's auc: 1\tvalid_1's auc: 0.999683\n",
      "[18800]\ttraining's auc: 1\tvalid_1's auc: 0.999683\n",
      "[19200]\ttraining's auc: 1\tvalid_1's auc: 0.999687\n",
      "[19600]\ttraining's auc: 1\tvalid_1's auc: 0.999689\n",
      "[20000]\ttraining's auc: 1\tvalid_1's auc: 0.999689\n",
      "[20400]\ttraining's auc: 1\tvalid_1's auc: 0.999689\n",
      "[20800]\ttraining's auc: 1\tvalid_1's auc: 0.999689\n",
      "[21200]\ttraining's auc: 1\tvalid_1's auc: 0.999689\n",
      "[21600]\ttraining's auc: 1\tvalid_1's auc: 0.999689\n",
      "[22000]\ttraining's auc: 1\tvalid_1's auc: 0.999689\n",
      "[22400]\ttraining's auc: 1\tvalid_1's auc: 0.999689\n",
      "[22800]\ttraining's auc: 1\tvalid_1's auc: 0.999689\n",
      "[23200]\ttraining's auc: 1\tvalid_1's auc: 0.999692\n",
      "[23600]\ttraining's auc: 1\tvalid_1's auc: 0.999692\n",
      "[24000]\ttraining's auc: 1\tvalid_1's auc: 0.999694\n",
      "[24400]\ttraining's auc: 1\tvalid_1's auc: 0.999694\n",
      "[24800]\ttraining's auc: 1\tvalid_1's auc: 0.999698\n",
      "[25200]\ttraining's auc: 1\tvalid_1's auc: 0.999698\n",
      "[25600]\ttraining's auc: 1\tvalid_1's auc: 0.999698\n",
      "[26000]\ttraining's auc: 1\tvalid_1's auc: 0.9997\n",
      "[26400]\ttraining's auc: 1\tvalid_1's auc: 0.999703\n",
      "[26800]\ttraining's auc: 1\tvalid_1's auc: 0.999703\n",
      "[27200]\ttraining's auc: 1\tvalid_1's auc: 0.999703\n",
      "[27600]\ttraining's auc: 1\tvalid_1's auc: 0.999703\n",
      "[28000]\ttraining's auc: 1\tvalid_1's auc: 0.999703\n",
      "[28400]\ttraining's auc: 1\tvalid_1's auc: 0.999705\n",
      "[28800]\ttraining's auc: 1\tvalid_1's auc: 0.999705\n",
      "[29200]\ttraining's auc: 1\tvalid_1's auc: 0.999707\n",
      "[29600]\ttraining's auc: 1\tvalid_1's auc: 0.999707\n",
      "[30000]\ttraining's auc: 1\tvalid_1's auc: 0.999707\n",
      "[30400]\ttraining's auc: 1\tvalid_1's auc: 0.999707\n",
      "[30800]\ttraining's auc: 1\tvalid_1's auc: 0.999707\n",
      "[31200]\ttraining's auc: 1\tvalid_1's auc: 0.999707\n",
      "[31600]\ttraining's auc: 1\tvalid_1's auc: 0.999707\n",
      "[32000]\ttraining's auc: 1\tvalid_1's auc: 0.999707\n",
      "[32400]\ttraining's auc: 1\tvalid_1's auc: 0.999707\n",
      "[32800]\ttraining's auc: 1\tvalid_1's auc: 0.999709\n",
      "[33200]\ttraining's auc: 1\tvalid_1's auc: 0.999709\n",
      "[33600]\ttraining's auc: 1\tvalid_1's auc: 0.999709\n",
      "[34000]\ttraining's auc: 1\tvalid_1's auc: 0.999709\n",
      "[34400]\ttraining's auc: 1\tvalid_1's auc: 0.999709\n",
      "[34800]\ttraining's auc: 1\tvalid_1's auc: 0.999707\n",
      "[35200]\ttraining's auc: 1\tvalid_1's auc: 0.999707\n",
      "[35600]\ttraining's auc: 1\tvalid_1's auc: 0.999709\n",
      "[36000]\ttraining's auc: 1\tvalid_1's auc: 0.999712\n",
      "[36400]\ttraining's auc: 1\tvalid_1's auc: 0.999714\n",
      "[36800]\ttraining's auc: 1\tvalid_1's auc: 0.999714\n",
      "[37200]\ttraining's auc: 1\tvalid_1's auc: 0.999714\n",
      "[37600]\ttraining's auc: 1\tvalid_1's auc: 0.999714\n",
      "[38000]\ttraining's auc: 1\tvalid_1's auc: 0.999714\n",
      "[38400]\ttraining's auc: 1\tvalid_1's auc: 0.999714\n",
      "[38800]\ttraining's auc: 1\tvalid_1's auc: 0.999714\n",
      "[39200]\ttraining's auc: 1\tvalid_1's auc: 0.999714\n",
      "[39600]\ttraining's auc: 1\tvalid_1's auc: 0.999714\n",
      "[40000]\ttraining's auc: 1\tvalid_1's auc: 0.999714\n",
      "Early stopping, best iteration is:\n",
      "[36088]\ttraining's auc: 1\tvalid_1's auc: 0.999714\n",
      "Fold 2 | AUC: 0.9997137887272695\n",
      "Training until validation scores don't improve for 4000 rounds\n",
      "[400]\ttraining's auc: 0.999774\tvalid_1's auc: 0.99959\n",
      "[800]\ttraining's auc: 0.999821\tvalid_1's auc: 0.999682\n",
      "[1200]\ttraining's auc: 0.999882\tvalid_1's auc: 0.999794\n",
      "[1600]\ttraining's auc: 0.999913\tvalid_1's auc: 0.999833\n",
      "[2000]\ttraining's auc: 0.999939\tvalid_1's auc: 0.999866\n",
      "[2400]\ttraining's auc: 0.99996\tvalid_1's auc: 0.999887\n",
      "[2800]\ttraining's auc: 0.999978\tvalid_1's auc: 0.999901\n",
      "[3200]\ttraining's auc: 0.99999\tvalid_1's auc: 0.999913\n",
      "[3600]\ttraining's auc: 0.999996\tvalid_1's auc: 0.999915\n",
      "[4000]\ttraining's auc: 0.999998\tvalid_1's auc: 0.999913\n",
      "[4400]\ttraining's auc: 1\tvalid_1's auc: 0.999918\n",
      "[4800]\ttraining's auc: 1\tvalid_1's auc: 0.999918\n",
      "[5200]\ttraining's auc: 1\tvalid_1's auc: 0.999918\n",
      "[5600]\ttraining's auc: 1\tvalid_1's auc: 0.999915\n",
      "[6000]\ttraining's auc: 1\tvalid_1's auc: 0.999911\n",
      "[6400]\ttraining's auc: 1\tvalid_1's auc: 0.999913\n",
      "[6800]\ttraining's auc: 1\tvalid_1's auc: 0.999909\n",
      "[7200]\ttraining's auc: 1\tvalid_1's auc: 0.999907\n",
      "[7600]\ttraining's auc: 1\tvalid_1's auc: 0.999909\n",
      "Early stopping, best iteration is:\n",
      "[3670]\ttraining's auc: 0.999997\tvalid_1's auc: 0.99992\n",
      "Fold 3 | AUC: 0.9999203796917724\n",
      "Training until validation scores don't improve for 4000 rounds\n",
      "[400]\ttraining's auc: 0.999809\tvalid_1's auc: 0.999433\n",
      "[800]\ttraining's auc: 0.999841\tvalid_1's auc: 0.99949\n",
      "[1200]\ttraining's auc: 0.999893\tvalid_1's auc: 0.999576\n",
      "[1600]\ttraining's auc: 0.999917\tvalid_1's auc: 0.999655\n",
      "[2000]\ttraining's auc: 0.999942\tvalid_1's auc: 0.999693\n",
      "[2400]\ttraining's auc: 0.99996\tvalid_1's auc: 0.999716\n",
      "[2800]\ttraining's auc: 0.999974\tvalid_1's auc: 0.999729\n"
     ]
    },
    {
     "name": "stdout",
     "output_type": "stream",
     "text": [
      "[3200]\ttraining's auc: 0.999982\tvalid_1's auc: 0.999744\n",
      "[3600]\ttraining's auc: 0.999987\tvalid_1's auc: 0.999753\n",
      "[4000]\ttraining's auc: 0.999991\tvalid_1's auc: 0.99977\n",
      "[4400]\ttraining's auc: 0.999993\tvalid_1's auc: 0.999778\n",
      "[4800]\ttraining's auc: 0.999994\tvalid_1's auc: 0.999785\n",
      "[5200]\ttraining's auc: 0.999996\tvalid_1's auc: 0.999797\n",
      "[5600]\ttraining's auc: 0.999997\tvalid_1's auc: 0.999802\n",
      "[6000]\ttraining's auc: 0.999999\tvalid_1's auc: 0.999795\n",
      "[6400]\ttraining's auc: 1\tvalid_1's auc: 0.999797\n",
      "[6800]\ttraining's auc: 1\tvalid_1's auc: 0.999804\n",
      "[7200]\ttraining's auc: 1\tvalid_1's auc: 0.999804\n",
      "[7600]\ttraining's auc: 1\tvalid_1's auc: 0.999804\n",
      "[8000]\ttraining's auc: 1\tvalid_1's auc: 0.999806\n",
      "[8400]\ttraining's auc: 1\tvalid_1's auc: 0.999806\n",
      "[8800]\ttraining's auc: 1\tvalid_1's auc: 0.999812\n",
      "[9200]\ttraining's auc: 1\tvalid_1's auc: 0.99981\n",
      "[9600]\ttraining's auc: 1\tvalid_1's auc: 0.999812\n",
      "[10000]\ttraining's auc: 1\tvalid_1's auc: 0.99981\n",
      "[10400]\ttraining's auc: 1\tvalid_1's auc: 0.999815\n",
      "[10800]\ttraining's auc: 1\tvalid_1's auc: 0.999815\n",
      "[11200]\ttraining's auc: 1\tvalid_1's auc: 0.999812\n",
      "[11600]\ttraining's auc: 1\tvalid_1's auc: 0.999817\n",
      "[12000]\ttraining's auc: 1\tvalid_1's auc: 0.999815\n",
      "[12400]\ttraining's auc: 1\tvalid_1's auc: 0.999812\n",
      "[12800]\ttraining's auc: 1\tvalid_1's auc: 0.999815\n",
      "[13200]\ttraining's auc: 1\tvalid_1's auc: 0.999814\n",
      "[13600]\ttraining's auc: 1\tvalid_1's auc: 0.999812\n",
      "[14000]\ttraining's auc: 1\tvalid_1's auc: 0.999812\n",
      "[14400]\ttraining's auc: 1\tvalid_1's auc: 0.99981\n",
      "[14800]\ttraining's auc: 1\tvalid_1's auc: 0.99981\n",
      "[15200]\ttraining's auc: 1\tvalid_1's auc: 0.99981\n",
      "Early stopping, best iteration is:\n",
      "[11525]\ttraining's auc: 1\tvalid_1's auc: 0.999819\n",
      "Fold 4 | AUC: 0.9998192100609601\n",
      "Training until validation scores don't improve for 4000 rounds\n",
      "[400]\ttraining's auc: 0.999832\tvalid_1's auc: 0.976406\n",
      "[800]\ttraining's auc: 0.99988\tvalid_1's auc: 0.977411\n",
      "[1200]\ttraining's auc: 0.999917\tvalid_1's auc: 0.977228\n",
      "[1600]\ttraining's auc: 0.999948\tvalid_1's auc: 0.977449\n",
      "[2000]\ttraining's auc: 0.999962\tvalid_1's auc: 0.976154\n",
      "[2400]\ttraining's auc: 0.999976\tvalid_1's auc: 0.976581\n",
      "[2800]\ttraining's auc: 0.999987\tvalid_1's auc: 0.976884\n",
      "[3200]\ttraining's auc: 0.999992\tvalid_1's auc: 0.976691\n",
      "[3600]\ttraining's auc: 0.999997\tvalid_1's auc: 0.976331\n",
      "[4000]\ttraining's auc: 0.999999\tvalid_1's auc: 0.976446\n",
      "[4400]\ttraining's auc: 1\tvalid_1's auc: 0.97658\n",
      "Early stopping, best iteration is:\n",
      "[700]\ttraining's auc: 0.999874\tvalid_1's auc: 0.977592\n",
      "Fold 5 | AUC: 0.9775663047959324\n",
      "CPU times: user 1h 3min 25s, sys: 12.9 s, total: 1h 3min 38s\n",
      "Wall time: 8min 48s\n"
     ]
    }
   ],
   "source": [
    "%%time\n",
    "\n",
    "for fold_n, (train_index, valid_index) in enumerate(splits):\n",
    "    X_tr, X_val = X_train[columns].iloc[train_index], X_train[columns].iloc[valid_index]\n",
    "    y_tr, y_val = y_train.iloc[train_index], y_train.iloc[valid_index]\n",
    "\n",
    "    dtrain = lgb.Dataset(X_tr, label = y_tr)\n",
    "    dvalid = lgb.Dataset(X_val, label = y_val)\n",
    "    \n",
    "    clf = lgb.train(us, dtrain, 1000000, valid_sets = [dtrain, dvalid], verbose_eval = 400, early_stopping_rounds = 4000)\n",
    "    \n",
    "    y_pred_val = clf.predict(X_val)\n",
    "    y_oof[valid_index] = y_pred_val\n",
    "    print(f\"Fold {fold_n + 1} | AUC: {roc_auc_score(y_val, y_pred_val)}\")\n",
    "    \n",
    "    score_auc += roc_auc_score(y_val, y_pred_val) / n_folds\n",
    "    \n",
    "    y_preds += clf.predict(X_test) / n_folds\n",
    "    \n",
    "    del X_tr, X_val, y_tr, y_val\n",
    " "
   ]
  },
  {
   "cell_type": "code",
   "execution_count": 24,
   "metadata": {
    "scrolled": true
   },
   "outputs": [
    {
     "name": "stdout",
     "output_type": "stream",
     "text": [
      "\n",
      "Mean AUC = 0.9953567316862428\n",
      "\n",
      "Out of folds AUC= 0.9979993142508988\n",
      "\n",
      "Test AUC = 0.9986724982852015\n"
     ]
    }
   ],
   "source": [
    "print(f\"\\nMean AUC = {score_auc}\")\n",
    "print(f\"\\nOut of folds AUC= {roc_auc_score(y_train, y_oof)}\")\n",
    "print(f\"\\nTest AUC = {roc_auc_score(y_test, y_preds)}\")\n"
   ]
  },
  {
   "cell_type": "code",
   "execution_count": 30,
   "metadata": {},
   "outputs": [],
   "source": [
    "y_pred = y_preds\n",
    "\n",
    "\n",
    "for i in range(len(y_preds)): \n",
    "    if (y_preds[i] >= .5):\n",
    "        y_pred[i] = 1\n",
    "    else:\n",
    "        y_pred[i] = 0"
   ]
  },
  {
   "cell_type": "code",
   "execution_count": 31,
   "metadata": {},
   "outputs": [
    {
     "name": "stdout",
     "output_type": "stream",
     "text": [
      "\n",
      "Out of folds confusion matrix \n",
      " [[80354   112]\n",
      " [    9   147]]\n",
      "\n",
      "\n",
      "Test confusion matrix \n",
      " [[14194     5]\n",
      " [    7    22]]\n"
     ]
    }
   ],
   "source": [
    "print(f\"\\nOut of folds confusion matrix \\n {metrics.confusion_matrix(y_train, y_oof)}\\n\")\n",
    "print(f\"\\nTest confusion matrix \\n {metrics.confusion_matrix(y_preds, y_test)}\")"
   ]
  }
 ],
 "metadata": {
  "kernelspec": {
   "display_name": "Python 3",
   "language": "python",
   "name": "python3"
  },
  "language_info": {
   "codemirror_mode": {
    "name": "ipython",
    "version": 3
   },
   "file_extension": ".py",
   "mimetype": "text/x-python",
   "name": "python",
   "nbconvert_exporter": "python",
   "pygments_lexer": "ipython3",
   "version": "3.7.3"
  }
 },
 "nbformat": 4,
 "nbformat_minor": 2
}
