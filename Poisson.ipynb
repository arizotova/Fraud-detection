{
 "cells": [
  {
   "cell_type": "code",
   "execution_count": 1,
   "metadata": {},
   "outputs": [],
   "source": [
    "import pandas as pd\n",
    "import math\n",
    "from sklearn.metrics import confusion_matrix, roc_auc_score\n",
    "from sklearn import metrics\n",
    "import numpy as np\n",
    "import scipy.optimize as optimize"
   ]
  },
  {
   "cell_type": "code",
   "execution_count": 2,
   "metadata": {},
   "outputs": [],
   "source": [
    "usa_ = pd.read_csv('usa_.csv')"
   ]
  },
  {
   "cell_type": "markdown",
   "metadata": {},
   "source": [
    "Homogeneous process"
   ]
  },
  {
   "cell_type": "code",
   "execution_count": 3,
   "metadata": {},
   "outputs": [],
   "source": [
    "test = pd.DataFrame()\n",
    "train = pd.DataFrame()"
   ]
  },
  {
   "cell_type": "code",
   "execution_count": 4,
   "metadata": {},
   "outputs": [],
   "source": [
    "for name in usa_.columns:\n",
    "    test[name] = []\n",
    "    train[name] = []"
   ]
  },
  {
   "cell_type": "code",
   "execution_count": 5,
   "metadata": {},
   "outputs": [],
   "source": [
    "for acc in usa_['AccountId'].unique():\n",
    "    df_tmp = usa_.loc[usa_['AccountId'] == acc]\n",
    "    li = df_tmp['TransactionId'].to_list()\n",
    "    a = int(len(li) // 8 + 1)\n",
    "    test = test.append(df_tmp.tail(a), ignore_index = True)\n",
    "    train = train.append(df_tmp.head(len(li) - a), ignore_index = True)"
   ]
  },
  {
   "cell_type": "code",
   "execution_count": 6,
   "metadata": {},
   "outputs": [],
   "source": [
    "lyambda = {}"
   ]
  },
  {
   "cell_type": "code",
   "execution_count": 7,
   "metadata": {},
   "outputs": [],
   "source": [
    "for card in train['AccountId'].unique():\n",
    "    df_tmp = train.loc[(train['AccountId'] == card) & (train['IsFraud'] == 1)]\n",
    "    li = df_tmp['TD'].to_list()\n",
    "    if (len(li) == 0):\n",
    "        lyambda[card] = 0\n",
    "    else:\n",
    "        lyambda[card] = float( len(li) / li[-1] )"
   ]
  },
  {
   "cell_type": "code",
   "execution_count": 8,
   "metadata": {},
   "outputs": [],
   "source": [
    "label = {}\n",
    "for card in test['AccountId'].unique():\n",
    "    df_tmp = test.loc[test['AccountId'] == card]\n",
    "    trans = {}\n",
    "    for transaction in df_tmp['TransactionId'].to_list():\n",
    "        trans[transaction] = df_tmp.loc[df_tmp['TransactionId'] == transaction]['IsFraud'].to_list()[0]\n",
    "    label[card] = trans"
   ]
  },
  {
   "cell_type": "code",
   "execution_count": 9,
   "metadata": {},
   "outputs": [],
   "source": [
    "pred = {}\n",
    "\n",
    "for card in test['AccountId'].unique():\n",
    "    df_tmp = test.loc[test['AccountId'] == card]\n",
    "    T = train.loc[train['AccountId'] == card]['TD'].to_list()[-1]\n",
    "    y = {}\n",
    "    for transaction in df_tmp['TransactionId'].to_list():\n",
    "       # if (transaction == df_tmp['TransactionId'].to_list()[0]):\n",
    "        y[transaction] = 1 - math.exp(-lyambda[card] * (df_tmp.loc[df_tmp['TransactionId'] == transaction]['TD'].to_list()[0] - T))\n",
    "        T = df_tmp.loc[df_tmp['TransactionId'] == transaction]['TD'].to_list()[0]\n",
    "    pred[card] = y"
   ]
  },
  {
   "cell_type": "code",
   "execution_count": 10,
   "metadata": {},
   "outputs": [],
   "source": [
    "label_li = []\n",
    "pred_li = []"
   ]
  },
  {
   "cell_type": "code",
   "execution_count": 11,
   "metadata": {},
   "outputs": [],
   "source": [
    "for acc in test['AccountId'].unique():\n",
    "    df_tmp = test.loc[test['AccountId'] == acc]\n",
    "    for transaction in df_tmp['TransactionId'].to_list():\n",
    "        label_li.append(label[acc][transaction])\n",
    "        pred_li.append(pred[acc][transaction])"
   ]
  },
  {
   "cell_type": "code",
   "execution_count": 12,
   "metadata": {},
   "outputs": [],
   "source": [
    "for i in range(len(pred_li)):\n",
    "    if (pred_li[i] >= 0.5):\n",
    "        pred_li[i] = 1\n",
    "    else:\n",
    "        pred_li[i] = 0"
   ]
  },
  {
   "cell_type": "code",
   "execution_count": 13,
   "metadata": {},
   "outputs": [
    {
     "name": "stdout",
     "output_type": "stream",
     "text": [
      "AUC_test from HomoModel: 0.748951\n"
     ]
    }
   ],
   "source": [
    "from auc import comp_auc\n",
    "\n",
    "print(f\"AUC_test from HomoModel: {comp_auc(label_li, pred_li)}\")"
   ]
  },
  {
   "cell_type": "markdown",
   "metadata": {},
   "source": [
    "Non-homogeneous process"
   ]
  },
  {
   "cell_type": "code",
   "execution_count": 14,
   "metadata": {},
   "outputs": [],
   "source": [
    "test = pd.DataFrame()\n",
    "train = pd.DataFrame()\n",
    "\n",
    "for name in usa_.columns:\n",
    "    test[name] = []\n",
    "    train[name] = []\n",
    "    \n",
    "for acc in usa_['AccountId'].unique():\n",
    "    df_tmp = usa_.loc[usa_['AccountId'] == acc]\n",
    "    li = df_tmp['TransactionId'].to_list()\n",
    "    a = int(len(li) // 8 + 1)\n",
    "    test = test.append(df_tmp.tail(a), ignore_index = True)\n",
    "    train = train.append(df_tmp.head(len(li) - a), ignore_index = True)"
   ]
  },
  {
   "cell_type": "markdown",
   "metadata": {},
   "source": [
    "#### lyambda(t) = at + b"
   ]
  },
  {
   "cell_type": "code",
   "execution_count": 15,
   "metadata": {},
   "outputs": [],
   "source": [
    "a = {}\n",
    "b = {}"
   ]
  },
  {
   "cell_type": "code",
   "execution_count": 16,
   "metadata": {},
   "outputs": [],
   "source": [
    "def func(w):\n",
    "    s = 0\n",
    "    td = li\n",
    "    T = li[-1]\n",
    "    for i in range(len(td)):\n",
    "        s += math.log(w[0]*td[i] + w[1]) - w[0] * T ** 2 / 2 - w[1] * T\n",
    "    return -s"
   ]
  },
  {
   "cell_type": "code",
   "execution_count": 17,
   "metadata": {},
   "outputs": [],
   "source": [
    "for acc in train['AccountId'].unique():\n",
    "    df_tmp = train.loc[(train['AccountId'] == acc) & (train['IsFraud'] == 1)]\n",
    "    li = df_tmp['TransactionId'].to_list()\n",
    "    if len(li) == 0:\n",
    "        a[acc] = 0\n",
    "        b[acc] = 0\n",
    "    else:\n",
    "        T = li[-1]\n",
    "        max = optimize.minimize(func, np.array([100, 10]), method = 'L-BFGS-B', bounds = ((1, 100), (1, 10)))\n",
    "        a[acc] = max.x[0]\n",
    "        b[acc] = max.x[1]"
   ]
  },
  {
   "cell_type": "code",
   "execution_count": 18,
   "metadata": {},
   "outputs": [],
   "source": [
    "label = {}\n",
    "for card in test['AccountId'].unique():\n",
    "    df_tmp = test.loc[test['AccountId'] == card]\n",
    "    trans = {}\n",
    "    for transaction in df_tmp['TransactionId'].to_list():\n",
    "        trans[transaction] = df_tmp.loc[df_tmp['TransactionId'] == transaction]['IsFraud'].to_list()[0]\n",
    "    label[card] = trans"
   ]
  },
  {
   "cell_type": "code",
   "execution_count": 19,
   "metadata": {},
   "outputs": [],
   "source": [
    "pred = {}\n",
    "\n",
    "for card in test['AccountId'].unique():\n",
    "    df_tmp = test.loc[test['AccountId'] == card]\n",
    "    T = train.loc[train['AccountId'] == card]['TD'].to_list()[-1]\n",
    "    y = {}\n",
    "    for transaction in df_tmp['TransactionId'].to_list():\n",
    "        now = df_tmp.loc[df_tmp['TransactionId'] == transaction]['TD'].to_list()[0]\n",
    "        y[transaction] = 1 - math.exp( a[card] / 2 *(T ** 2 - now ** 2) - b[card] * (now - T) )\n",
    "        T = now\n",
    "    pred[card] = y"
   ]
  },
  {
   "cell_type": "code",
   "execution_count": 20,
   "metadata": {},
   "outputs": [],
   "source": [
    "label_li = []\n",
    "pred_li = []\n",
    "\n",
    "for acc in test['AccountId'].unique():\n",
    "    df_tmp = test.loc[test['AccountId'] == acc]\n",
    "    for transaction in df_tmp['TransactionId'].to_list():\n",
    "        label_li.append(label[acc][transaction])\n",
    "        pred_li.append(pred[acc][transaction])\n",
    "\n",
    "for i in range(len(pred_li)):\n",
    "    if (pred_li[i] >= 0.5):\n",
    "        pred_li[i] = 1\n",
    "    else:\n",
    "        pred_li[i] = 0"
   ]
  },
  {
   "cell_type": "code",
   "execution_count": 21,
   "metadata": {},
   "outputs": [
    {
     "name": "stdout",
     "output_type": "stream",
     "text": [
      "AUC_test from LinearModel: 0.786327\n"
     ]
    }
   ],
   "source": [
    "print(f\"AUC_test from LinearModel: {comp_auc(label_li, pred_li)}\")"
   ]
  },
  {
   "cell_type": "markdown",
   "metadata": {},
   "source": [
    "#### lyambda(t) = at^2 + bt + c"
   ]
  },
  {
   "cell_type": "code",
   "execution_count": 23,
   "metadata": {},
   "outputs": [],
   "source": [
    "a = {}\n",
    "b = {}\n",
    "c = {}"
   ]
  },
  {
   "cell_type": "code",
   "execution_count": 24,
   "metadata": {},
   "outputs": [],
   "source": [
    "def func(w):\n",
    "    s = 0\n",
    "    td = li\n",
    "    T = li[-1]\n",
    "    for i in range(len(td)):\n",
    "        s += math.log(w[0]*td[i] ** 2 + w[1]*td[i] + w[2]) - w[0] * T ** 3 / 3 - w[1] * T ** 2 / 2 - w[2] * T\n",
    "    return -s"
   ]
  },
  {
   "cell_type": "code",
   "execution_count": 25,
   "metadata": {},
   "outputs": [],
   "source": [
    "for acc in train['AccountId'].unique():\n",
    "    df_tmp = train.loc[(train['AccountId'] == acc) & (train['IsFraud'] == 1)]\n",
    "    li = df_tmp['TransactionId'].to_list()\n",
    "    if len(li) == 0:\n",
    "        a[acc] = 0\n",
    "        b[acc] = 0\n",
    "        c[acc] = 0\n",
    "    else:\n",
    "        T = li[-1]\n",
    "        max = optimize.minimize(func, np.array([100, 10, 15]), method = 'L-BFGS-B', bounds = ((1, 100), (1, 10), (1, 15)))\n",
    "        a[acc] = max.x[0]\n",
    "        b[acc] = max.x[1]\n",
    "        c[acc] = max.x[2]"
   ]
  },
  {
   "cell_type": "code",
   "execution_count": 26,
   "metadata": {},
   "outputs": [],
   "source": [
    "label = {}\n",
    "for card in test['AccountId'].unique():\n",
    "    df_tmp = test.loc[test['AccountId'] == card]\n",
    "    trans = {}\n",
    "    for transaction in df_tmp['TransactionId'].to_list():\n",
    "        trans[transaction] = df_tmp.loc[df_tmp['TransactionId'] == transaction]['IsFraud'].to_list()[0]\n",
    "    label[card] = trans"
   ]
  },
  {
   "cell_type": "code",
   "execution_count": 27,
   "metadata": {},
   "outputs": [],
   "source": [
    "pred = {}\n",
    "\n",
    "for card in test['AccountId'].unique():\n",
    "    df_tmp = test.loc[test['AccountId'] == card]\n",
    "    T = train.loc[train['AccountId'] == card]['TD'].to_list()[-1]\n",
    "    y = {}\n",
    "    for transaction in df_tmp['TransactionId'].to_list():\n",
    "        now = df_tmp.loc[df_tmp['TransactionId'] == transaction]['TD'].to_list()[0]\n",
    "        y[transaction] = 1 - math.exp( a[card] / 3 *(T ** 3 - now ** 3) + b[card] / 2 * (T ** 2 - now ** 2) + c[card] * (T - now) )\n",
    "        T = now\n",
    "    pred[card] = y"
   ]
  },
  {
   "cell_type": "code",
   "execution_count": 28,
   "metadata": {},
   "outputs": [],
   "source": [
    "label_li = []\n",
    "pred_li = []\n",
    "\n",
    "for acc in test['AccountId'].unique():\n",
    "    df_tmp = test.loc[test['AccountId'] == acc]\n",
    "    for transaction in df_tmp['TransactionId'].to_list():\n",
    "        label_li.append(label[acc][transaction])\n",
    "        pred_li.append(pred[acc][transaction])\n",
    "\n",
    "for i in range(len(pred_li)):\n",
    "    if (pred_li[i] >= 0.5):\n",
    "        pred_li[i] = 1\n",
    "    else:\n",
    "        pred_li[i] = 0"
   ]
  },
  {
   "cell_type": "code",
   "execution_count": 29,
   "metadata": {},
   "outputs": [
    {
     "name": "stdout",
     "output_type": "stream",
     "text": [
      "AUC_test from LinearModel: 0.769392\n"
     ]
    }
   ],
   "source": [
    "print(f\"AUC_test from LinearModel: {comp_auc(label_li, pred_li)}\")"
   ]
  }
 ],
 "metadata": {
  "kernelspec": {
   "display_name": "Python 3",
   "language": "python",
   "name": "python3"
  },
  "language_info": {
   "codemirror_mode": {
    "name": "ipython",
    "version": 3
   },
   "file_extension": ".py",
   "mimetype": "text/x-python",
   "name": "python",
   "nbconvert_exporter": "python",
   "pygments_lexer": "ipython3",
   "version": "3.7.3"
  }
 },
 "nbformat": 4,
 "nbformat_minor": 2
}
